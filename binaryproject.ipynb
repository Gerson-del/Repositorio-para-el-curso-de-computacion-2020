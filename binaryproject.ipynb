{
  "nbformat": 4,
  "nbformat_minor": 0,
  "metadata": {
    "colab": {
      "provenance": [],
      "authorship_tag": "ABX9TyOC4uEsuQKo/XDxq+DPyM8i",
      "include_colab_link": true
    },
    "kernelspec": {
      "name": "python3",
      "display_name": "Python 3"
    },
    "language_info": {
      "name": "python"
    }
  },
  "cells": [
    {
      "cell_type": "markdown",
      "metadata": {
        "id": "view-in-github",
        "colab_type": "text"
      },
      "source": [
        "<a href=\"https://colab.research.google.com/github/Gerson-del/Repositorio-para-el-curso-de-computacion-2020/blob/main/binaryproject.ipynb\" target=\"_parent\"><img src=\"https://colab.research.google.com/assets/colab-badge.svg\" alt=\"Open In Colab\"/></a>"
      ]
    },
    {
      "cell_type": "markdown",
      "source": [
        "calculadora de binario\n",
        "-suma dos numeros decimales y muestra la suma en binario y en decimal\n",
        "-suma numeros en binario muestra la suma en binario y en decimal"
      ],
      "metadata": {
        "id": "h7X05c0sG3Xg"
      }
    },
    {
      "cell_type": "code",
      "execution_count": null,
      "metadata": {
        "id": "ZcitKvc8G2AP"
      },
      "outputs": [],
      "source": []
    }
  ]
}